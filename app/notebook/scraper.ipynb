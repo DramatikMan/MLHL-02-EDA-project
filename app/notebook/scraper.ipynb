{
 "cells": [
  {
   "cell_type": "code",
   "execution_count": 1,
   "id": "e41cbe08",
   "metadata": {},
   "outputs": [],
   "source": [
    "import os\n",
    "import time\n",
    "from pathlib import Path\n",
    "\n",
    "from selenium import webdriver\n",
    "from selenium.webdriver.common.action_chains import ActionChains\n",
    "from selenium.webdriver.common.by import By\n",
    "from selenium.webdriver.common.keys import Keys\n",
    "from selenium.webdriver.chrome.options import Options\n",
    "from selenium.webdriver.chrome.service import Service\n",
    "from selenium.webdriver.chrome.webdriver import WebDriver\n",
    "from selenium.webdriver.remote.webelement import WebElement"
   ]
  },
  {
   "cell_type": "code",
   "execution_count": 2,
   "id": "ef788fef",
   "metadata": {},
   "outputs": [],
   "source": [
    "# URL = 'https://www.skyscanner.ru'\n",
    "URL = 'https://www.skyscanner.ru/transport/flights/mosc/ber/211123'\n",
    "dump_path = Path(os.environ['PWD']) / 'app/notebook/dump.html'"
   ]
  },
  {
   "cell_type": "code",
   "execution_count": 3,
   "id": "ecf6b3ff",
   "metadata": {},
   "outputs": [],
   "source": [
    "def dump_HTML(driver: WebDriver) -> None:\n",
    "    with open(dump_path, 'w') as file:\n",
    "        file.write(driver.page_source)"
   ]
  },
  {
   "cell_type": "code",
   "execution_count": 9,
   "id": "ba41fc3f",
   "metadata": {},
   "outputs": [],
   "source": [
    "def check_and_handle_captcha(driver: WebDriver, cp: str) -> None:\n",
    "    time.sleep(2)\n",
    "    \n",
    "    if driver.find_elements(By.ID, 'px-captcha'):\n",
    "        print(f'--- CAPTCHA DETECTED at checkpoint {cp} ---')\n",
    "        while driver.find_elements(By.CLASS_NAME, 'px-loader-wrapper'):\n",
    "            time.sleep(2)\n",
    "        \n",
    "        while driver.find_elements(By.ID, 'px-captcha'):\n",
    "            time.sleep(2)\n",
    "            captcha: WebElement = driver.find_element(By.ID, 'px-captcha')\n",
    "            time.sleep(2)\n",
    "            ActionChains(driver) \\\n",
    "                .move_to_element(captcha) \\\n",
    "                .click_and_hold(captcha) \\\n",
    "                .pause(10) \\\n",
    "                .release() \\\n",
    "                .perform()\n",
    "            \n",
    "            time.sleep(10)\n",
    "\n",
    "        driver.save_screenshot(f'captcha_handled_at_checkpoint_{cp}.png')"
   ]
  },
  {
   "cell_type": "code",
   "execution_count": 5,
   "id": "3c9d95b5",
   "metadata": {},
   "outputs": [],
   "source": [
    "options = Options()\n",
    "options.headless = True\n",
    "options.add_argument('--disable-blink-features=AutomationControlled')\n",
    "options.add_argument('--disable-dev-shm-usage')\n",
    "options.add_argument('--disable-web-security')\n",
    "options.add_argument('--no-sandbox')\n",
    "options.add_argument('--user-agent=\"Mozilla/5.0 (X11; Linux x86_64) AppleWebKit/537.36 (KHTML, like Gecko) Chrome/95.0.4638.69 Safari/537.36\"')\n",
    "options.add_argument('--window-size=1920,1080')\n",
    "options.add_experimental_option('excludeSwitches', ['enable-automation'])\n",
    "options.add_experimental_option('useAutomationExtension', False)"
   ]
  },
  {
   "cell_type": "code",
   "execution_count": 10,
   "id": "30d509e1",
   "metadata": {},
   "outputs": [
    {
     "name": "stdout",
     "output_type": "stream",
     "text": [
      "--- CAPTCHA DETECTED at checkpoint 2 ---\n",
      "childElementCount = 361\n"
     ]
    }
   ],
   "source": [
    "driver: WebDriver = webdriver.Chrome(\n",
    "    options=options,\n",
    "    service=Service('/usr/bin/chromedriver')\n",
    ")\n",
    "\n",
    "try:\n",
    "    driver.get(URL)\n",
    "    time.sleep(2)\n",
    "    check_and_handle_captcha(driver, '1')\n",
    "    \n",
    "    # ждём, пока пропадёт индикатор продолжающейся загрузки\n",
    "    while driver.execute_script('''\n",
    "        return document.querySelector(\n",
    "            \"div[class^='SummaryInfo_progressTextContainer']\"\n",
    "        );\n",
    "    ''') is not None:\n",
    "        time.sleep(10)\n",
    "        \n",
    "    check_and_handle_captcha(driver, '2')\n",
    "    \n",
    "    # переходим на дно страницы\n",
    "    driver.execute_script('window.scrollTo(0, document.body.scrollHeight);')\n",
    "    check_and_handle_captcha(driver, '3')\n",
    "    # кликаем на кнопку \"Показать больше\"\n",
    "    driver.execute_script('''\n",
    "        const matches = [];\n",
    "        document.querySelectorAll('button').forEach(\n",
    "            e => e.textContent == 'Показать больше' ? matches.push(e) : null\n",
    "        );\n",
    "        \n",
    "        return matches[0];\n",
    "    ''').click()\n",
    "    check_and_handle_captcha(driver, '4')\n",
    "    \n",
    "    # прокручиваемся вниз, пока не будут видны все результаты\n",
    "    element_count = 0\n",
    "    \n",
    "    while (current_count := driver.execute_script('''\n",
    "        return document.querySelector(\n",
    "            \"div[class^='FlightsResults_dayViewItems']\"\n",
    "        ).childElementCount;\n",
    "    ''')) > element_count:\n",
    "        element_count = current_count\n",
    "        driver.execute_script('window.scrollTo(0, document.body.scrollHeight);')\n",
    "        time.sleep(2)\n",
    "        \n",
    "    print(f'childElementCount = {element_count}')\n",
    "except Exception:\n",
    "    driver.save_screenshot('exception.png')\n",
    "    dump_HTML(driver)\n",
    "    raise\n",
    "finally:\n",
    "    driver.quit()"
   ]
  }
 ],
 "metadata": {
  "kernelspec": {
   "display_name": "Python 3 (ipykernel)",
   "language": "python",
   "name": "python3"
  },
  "language_info": {
   "codemirror_mode": {
    "name": "ipython",
    "version": 3
   },
   "file_extension": ".py",
   "mimetype": "text/x-python",
   "name": "python",
   "nbconvert_exporter": "python",
   "pygments_lexer": "ipython3",
   "version": "3.9.7"
  }
 },
 "nbformat": 4,
 "nbformat_minor": 5
}
