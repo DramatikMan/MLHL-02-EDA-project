{
 "cells": [
  {
   "cell_type": "code",
   "execution_count": 1,
   "id": "e41cbe08",
   "metadata": {},
   "outputs": [],
   "source": [
    "import os\n",
    "import time\n",
    "from pathlib import Path\n",
    "\n",
    "from selenium import webdriver\n",
    "from selenium.webdriver.common.action_chains import ActionChains\n",
    "from selenium.webdriver.common.by import By\n",
    "from selenium.webdriver.common.keys import Keys\n",
    "from selenium.webdriver.chrome.options import Options\n",
    "from selenium.webdriver.chrome.service import Service\n",
    "from selenium.webdriver.chrome.webdriver import WebDriver\n",
    "from selenium.webdriver.remote.webelement import WebElement"
   ]
  },
  {
   "cell_type": "code",
   "execution_count": 2,
   "id": "ef788fef",
   "metadata": {},
   "outputs": [],
   "source": [
    "# URL = 'https://www.skyscanner.ru'\n",
    "URL = 'https://www.skyscanner.ru/transport/flights/mosc/ber/211120'\n",
    "dump_path = Path(os.environ['PWD']) / 'app/notebook/dump.html'"
   ]
  },
  {
   "cell_type": "code",
   "execution_count": 3,
   "id": "ecf6b3ff",
   "metadata": {},
   "outputs": [],
   "source": [
    "def dump_HTML(driver: WebDriver) -> None:\n",
    "    with open(dump_path, 'w') as file:\n",
    "        file.write(driver.page_source)"
   ]
  },
  {
   "cell_type": "code",
   "execution_count": 4,
   "id": "ba41fc3f",
   "metadata": {},
   "outputs": [],
   "source": [
    "def check_and_handle_captcha(driver: WebDriver) -> None:\n",
    "    time.sleep(2)\n",
    "    \n",
    "    if driver.find_elements(By.ID, 'px-captcha'):\n",
    "        print('--- CAPTCHA DETECTED ---')\n",
    "        while driver.find_elements(By.CLASS_NAME, 'px-loader-wrapper'):\n",
    "            time.sleep(2)\n",
    "        \n",
    "        while driver.find_elements(By.ID, 'px-captcha'):\n",
    "            captcha: WebElement = driver.find_element(By.ID, 'px-captcha')\n",
    "            time.sleep(2)\n",
    "            ActionChains(driver) \\\n",
    "                .move_to_element(captcha) \\\n",
    "                .click_and_hold(captcha) \\\n",
    "                .pause(5) \\\n",
    "                .release() \\\n",
    "                .perform()\n",
    "\n",
    "        driver.save_screenshot('captcha_handler_result.png')\n",
    "        time.sleep(2)"
   ]
  },
  {
   "cell_type": "code",
   "execution_count": 5,
   "id": "3c9d95b5",
   "metadata": {},
   "outputs": [],
   "source": [
    "options = Options()\n",
    "options.headless = True\n",
    "options.add_argument('--disable-blink-features=AutomationControlled')\n",
    "options.add_argument('--disable-dev-shm-usage')\n",
    "options.add_argument('--disable-web-security')\n",
    "options.add_argument('--no-sandbox')\n",
    "options.add_argument('--user-agent=\"Mozilla/5.0 (X11; Linux x86_64) AppleWebKit/537.36 (KHTML, like Gecko) Chrome/95.0.4638.69 Safari/537.36\"')\n",
    "options.add_argument('--window-size=1920,1080')\n",
    "options.add_experimental_option('excludeSwitches', ['enable-automation'])\n",
    "options.add_experimental_option('useAutomationExtension', False)"
   ]
  },
  {
   "cell_type": "code",
   "execution_count": 6,
   "id": "30d509e1",
   "metadata": {},
   "outputs": [
    {
     "name": "stdout",
     "output_type": "stream",
     "text": [
      "--- CAPTCHA DETECTED ---\n"
     ]
    }
   ],
   "source": [
    "driver: WebDriver = webdriver.Chrome(\n",
    "    options=options,\n",
    "    service=Service('/usr/bin/chromedriver')\n",
    ")\n",
    "\n",
    "try:\n",
    "    driver.get(URL)\n",
    "    check_and_handle_captcha(driver)\n",
    "    driver.save_screenshot('main.png')\n",
    "    \n",
    "    # ждём, пока пропадёт индикатор продолжающейся загрузки\n",
    "    while driver.find_elements(By.CLASS_NAME, 'SummaryInfo_progressTextContainer__Njg5Y'):\n",
    "        time.sleep(10)\n",
    "        \n",
    "    check_and_handle_captcha(driver)\n",
    "    driver.save_screenshot('main2.png')\n",
    "    \n",
    "    # переходим на дно страницы\n",
    "    driver.execute_script('window.scrollTo(0, document.body.scrollHeight);')\n",
    "    check_and_handle_captcha(driver)\n",
    "    # кликаем на кнопку \"Показать больше\"\n",
    "    driver.find_element(\n",
    "        By.XPATH,\n",
    "        '/html/body/div[3]/div[3]/div/div[2]/div[1]/div/div/div/div[1]/button'\n",
    "    ).click()\n",
    "    check_and_handle_captcha(driver)\n",
    "    driver.save_screenshot('main3.png')\n",
    "    \n",
    "    # элемент с карточками рейсов\n",
    "    results_div: WebElement = driver.find_element(\n",
    "        By.XPATH,\n",
    "        '/html/body/div[3]/div[3]/div/div[2]/div[1]/div/div/div/div[1]/div[3]'\n",
    "    )\n",
    "finally:\n",
    "    driver.quit()"
   ]
  }
 ],
 "metadata": {
  "kernelspec": {
   "display_name": "Python 3 (ipykernel)",
   "language": "python",
   "name": "python3"
  },
  "language_info": {
   "codemirror_mode": {
    "name": "ipython",
    "version": 3
   },
   "file_extension": ".py",
   "mimetype": "text/x-python",
   "name": "python",
   "nbconvert_exporter": "python",
   "pygments_lexer": "ipython3",
   "version": "3.9.7"
  }
 },
 "nbformat": 4,
 "nbformat_minor": 5
}
