{
 "cells": [
  {
   "cell_type": "code",
   "execution_count": 1,
   "id": "276377c3",
   "metadata": {},
   "outputs": [],
   "source": [
    "from datetime import date\n",
    "\n",
    "from app.parser import Parser\n",
    "from app.scraper import Scraper"
   ]
  },
  {
   "cell_type": "code",
   "execution_count": 2,
   "id": "8cdc070a",
   "metadata": {},
   "outputs": [],
   "source": [
    "destination = 'ber'\n",
    "on_date = date(year=2021, month=12, day=1)"
   ]
  },
  {
   "cell_type": "code",
   "execution_count": null,
   "id": "7710e1bc",
   "metadata": {},
   "outputs": [],
   "source": [
    "scraper = Scraper(\n",
    "    destination=destination,\n",
    "    on_date=on_date\n",
    ")\n",
    "scraper.run()\n",
    "HTML: str = scraper.HTML"
   ]
  },
  {
   "cell_type": "code",
   "execution_count": null,
   "id": "8de0a184",
   "metadata": {},
   "outputs": [],
   "source": [
    "Parser.get_dataframe(\n",
    "    destination=destination,\n",
    "    on_date=on_date,\n",
    "    HTML=HTML\n",
    ")"
   ]
  }
 ],
 "metadata": {
  "kernelspec": {
   "display_name": "Python 3 (ipykernel)",
   "language": "python",
   "name": "python3"
  },
  "language_info": {
   "codemirror_mode": {
    "name": "ipython",
    "version": 3
   },
   "file_extension": ".py",
   "mimetype": "text/x-python",
   "name": "python",
   "nbconvert_exporter": "python",
   "pygments_lexer": "ipython3",
   "version": "3.9.7"
  }
 },
 "nbformat": 4,
 "nbformat_minor": 5
}
